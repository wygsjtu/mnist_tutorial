{
 "cells": [
  {
   "cell_type": "markdown",
   "metadata": {},
   "source": [
    "# Keras Tutorial"
   ]
  },
  {
   "cell_type": "markdown",
   "metadata": {},
   "source": [
    "Keras is a popular deep learning framework and it's easy to get started."
   ]
  },
  {
   "cell_type": "code",
   "execution_count": 1,
   "metadata": {},
   "outputs": [
    {
     "name": "stderr",
     "output_type": "stream",
     "text": [
      "/home/wyg/anaconda3/lib/python3.6/site-packages/h5py/__init__.py:36: FutureWarning: Conversion of the second argument of issubdtype from `float` to `np.floating` is deprecated. In future, it will be treated as `np.float64 == np.dtype(float).type`.\n",
      "  from ._conv import register_converters as _register_converters\n",
      "Using TensorFlow backend.\n"
     ]
    }
   ],
   "source": [
    "import keras\n",
    "from keras.datasets import mnist\n",
    "from keras.models import Sequential\n",
    "from keras.layers import Dense, Dropout, Flatten, Conv2D, MaxPooling2D\n",
    "\n",
    "BATCH_SIZE = 128\n",
    "NUM_CLASSES = 10\n",
    "NUM_EPOCHS = 10"
   ]
  },
  {
   "cell_type": "markdown",
   "metadata": {},
   "source": [
    "First, we read the mnist data and preprocess them."
   ]
  },
  {
   "cell_type": "code",
   "execution_count": 2,
   "metadata": {},
   "outputs": [
    {
     "name": "stdout",
     "output_type": "stream",
     "text": [
      "Downloading data from https://s3.amazonaws.com/img-datasets/mnist.npz\n",
      "11493376/11490434 [==============================] - 13s 1us/step\n"
     ]
    }
   ],
   "source": [
    "# download and load the data (split them between train and test sets)\n",
    "(x_train, y_train), (x_test, y_test) = mnist.load_data()\n",
    "\n",
    "# expand the channel dimension\n",
    "x_train = x_train.reshape(x_train.shape[0], 28, 28, 1)\n",
    "x_test = x_test.reshape(x_test.shape[0], 28, 28, 1)\n",
    "input_shape = (28, 28, 1)\n",
    "\n",
    "# make the value of pixels from [0, 255] to [0, 1] for further process\n",
    "x_train = x_train.astype('float32') / 255.\n",
    "x_test = x_test.astype('float32') / 255.\n",
    "\n",
    "# convert class vectors to binary class matrics\n",
    "y_train = keras.utils.to_categorical(y_train, NUM_CLASSES)\n",
    "y_test = keras.utils.to_categorical(y_test, NUM_CLASSES)"
   ]
  },
  {
   "cell_type": "markdown",
   "metadata": {},
   "source": [
    "Then, we define the model, object function and optimizer that we use to classify."
   ]
  },
  {
   "cell_type": "code",
   "execution_count": 37,
   "metadata": {},
   "outputs": [],
   "source": [
    "# define the model\n",
    "model = Sequential()\n",
    "model.add(Conv2D(filters = 32, kernel_size = (3, 3), activation = 'relu', input_shape = input_shape))\n",
    "model.add(Conv2D(filters = 32, kernel_size = (3, 3), activation = 'relu'))\n",
    "model.add(MaxPooling2D(pool_size = (2,2)))\n",
    "model.add(Conv2D(filters = 64, kernel_size = (3, 3), activation = 'relu'))\n",
    "model.add(Conv2D(filters = 64, kernel_size = (3, 3), activation = 'relu'))\n",
    "model.add(MaxPooling2D(pool_size = (2,2)))\n",
    "\n",
    "model.add(Flatten())\n",
    "model.add(Dense(units = 512, activation = 'relu'))\n",
    "model.add(Dropout(0.2))\n",
    "model.add(Dense(units = 10, activation = 'softmax'))\n",
    "\n",
    "# define the object function, optimizer and metrics\n",
    "model.compile(optimizer = 'rmsprop',\n",
    "              loss = 'categorical_crossentropy',\n",
    "              metrics = ['accuracy'])"
   ]
  },
  {
   "cell_type": "markdown",
   "metadata": {},
   "source": [
    "Next, we can start to train and evaluate!"
   ]
  },
  {
   "cell_type": "code",
   "execution_count": 38,
   "metadata": {},
   "outputs": [
    {
     "name": "stdout",
     "output_type": "stream",
     "text": [
      "Epoch 1/10\n",
      "60000/60000 [==============================] - 46s 761us/step - loss: 0.1641 - acc: 0.9476\n",
      "Epoch 2/10\n",
      "60000/60000 [==============================] - 48s 801us/step - loss: 0.0443 - acc: 0.9868\n",
      "Epoch 3/10\n",
      "60000/60000 [==============================] - 51s 847us/step - loss: 0.0318 - acc: 0.9902\n",
      "Epoch 4/10\n",
      "60000/60000 [==============================] - 48s 806us/step - loss: 0.0241 - acc: 0.9927\n",
      "Epoch 5/10\n",
      "60000/60000 [==============================] - 48s 795us/step - loss: 0.0197 - acc: 0.9942\n",
      "Epoch 6/10\n",
      "60000/60000 [==============================] - 47s 790us/step - loss: 0.0170 - acc: 0.9952\n",
      "Epoch 7/10\n",
      "60000/60000 [==============================] - 46s 766us/step - loss: 0.0150 - acc: 0.9958\n",
      "Epoch 8/10\n",
      "60000/60000 [==============================] - 48s 802us/step - loss: 0.0137 - acc: 0.9962\n",
      "Epoch 9/10\n",
      "60000/60000 [==============================] - 54s 905us/step - loss: 0.0126 - acc: 0.9967\n",
      "Epoch 10/10\n",
      "60000/60000 [==============================] - 50s 836us/step - loss: 0.0114 - acc: 0.9969\n",
      "60000/60000 [==============================] - 23s 388us/step\n",
      "Training loss: 0.0046, Training accuracy: 99.87%\n",
      "10000/10000 [==============================] - 4s 395us/step\n",
      "Testing loss: 0.0378, Testing accuracy: 99.29%\n"
     ]
    }
   ],
   "source": [
    "# train\n",
    "model.fit(x_train, y_train, epochs = NUM_EPOCHS, batch_size = BATCH_SIZE)\n",
    "\n",
    "# evaluate\n",
    "score_train = model.evaluate(x_train, y_train)\n",
    "print('Training loss: %.4f, Training accuracy: %.2f%%' % (score_train[0], score_train[1]*100))\n",
    "score_test = model.evaluate(x_test, y_test)\n",
    "print('Testing loss: %.4f, Testing accuracy: %.2f%%' % (score_test[0], score_test[1]*100))"
   ]
  },
  {
   "cell_type": "markdown",
   "metadata": {},
   "source": [
    "#### Q6:\n",
    "Please print the training and testing accuracy."
   ]
  },
  {
   "cell_type": "code",
   "execution_count": 39,
   "metadata": {},
   "outputs": [
    {
     "name": "stdout",
     "output_type": "stream",
     "text": [
      "Training accuracy: 99.87%\n",
      "Testing accuracy: 99.29%\n"
     ]
    }
   ],
   "source": [
    "print('Training accuracy: %0.2f%%' % (score_train[1]*100))\n",
    "print('Testing accuracy: %0.2f%%' % (score_test[1]*100))"
   ]
  }
 ],
 "metadata": {
  "kernelspec": {
   "display_name": "Python 3",
   "language": "python",
   "name": "python3"
  },
  "language_info": {
   "codemirror_mode": {
    "name": "ipython",
    "version": 3
   },
   "file_extension": ".py",
   "mimetype": "text/x-python",
   "name": "python",
   "nbconvert_exporter": "python",
   "pygments_lexer": "ipython3",
   "version": "3.6.6"
  }
 },
 "nbformat": 4,
 "nbformat_minor": 2
}
