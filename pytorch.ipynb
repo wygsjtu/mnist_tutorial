{
 "cells": [
  {
   "cell_type": "markdown",
   "metadata": {},
   "source": [
    "# Pytorch Tutorial"
   ]
  },
  {
   "cell_type": "markdown",
   "metadata": {},
   "source": [
    "Pytorch is a popular deep learning framework and it's easy to get started."
   ]
  },
  {
   "cell_type": "code",
   "execution_count": 1,
   "metadata": {},
   "outputs": [],
   "source": [
    "import torch\n",
    "import torch.nn as nn\n",
    "import torch.utils.data as data\n",
    "import torchvision\n",
    "import torchvision.transforms as transforms\n",
    "from tqdm import tqdm\n",
    "import time\n",
    "\n",
    "BATCH_SIZE = 128\n",
    "NUM_EPOCHS = 10"
   ]
  },
  {
   "cell_type": "markdown",
   "metadata": {},
   "source": [
    "First, we read the mnist data, preprocess them and encapsulate them into dataloader form."
   ]
  },
  {
   "cell_type": "code",
   "execution_count": 2,
   "metadata": {},
   "outputs": [],
   "source": [
    "# preprocessing\n",
    "normalize = transforms.Normalize(mean=[.5], std=[.5])\n",
    "transform = transforms.Compose([transforms.ToTensor(), normalize])\n",
    "\n",
    "# download and load the data\n",
    "train_dataset = torchvision.datasets.MNIST(root='./mnist/', train=True, transform=transform, download=True)\n",
    "test_dataset = torchvision.datasets.MNIST(root='./mnist/', train=False, transform=transform, download=False)\n",
    "\n",
    "# encapsulate them into dataloader form\n",
    "train_loader = data.DataLoader(train_dataset, batch_size=BATCH_SIZE, shuffle=True, drop_last=True)\n",
    "test_loader = data.DataLoader(test_dataset, batch_size=BATCH_SIZE, shuffle=False, drop_last=True)"
   ]
  },
  {
   "cell_type": "markdown",
   "metadata": {},
   "source": [
    "Then, we define the model, object function and optimizer that we use to classify."
   ]
  },
  {
   "cell_type": "code",
   "execution_count": 3,
   "metadata": {},
   "outputs": [],
   "source": [
    "class SimpleNet(nn.Module):\n",
    "# TODO:define model\n",
    "\n",
    "\n",
    "    def __init__(self):\n",
    "        super(SimpleNet, self).__init__()\n",
    "        \n",
    "        self.fc1 = nn.Linear(784, 548)\n",
    "        self.bc1 = nn.BatchNorm1d(548)\n",
    "        \n",
    "        self.fc2 = nn.Linear(548, 252)\n",
    "        self.bc2 = nn.BatchNorm1d(252)\n",
    "        \n",
    "        self.fc3 = nn.Linear(252, 10)\n",
    "        \n",
    "        \n",
    "    def forward(self, x):\n",
    "        x = x.view((-1, 784))\n",
    "        h = self.fc1(x)\n",
    "        h = self.bc1(h)\n",
    "        h = nn.functional.relu(h)\n",
    "        h = nn.functional.dropout(h, p=0.5, training=self.training)\n",
    "        \n",
    "        h = self.fc2(h)\n",
    "        h = self.bc2(h)\n",
    "        h = nn.functional.relu(h)\n",
    "        h = nn.functional.dropout(h, p=0.2, training=self.training)\n",
    "        \n",
    "        h = self.fc3(h)\n",
    "        out = nn.functional.log_softmax(h, dim = 0)\n",
    "        return out\n",
    "\n",
    "    \n",
    "model = SimpleNet()\n",
    "\n",
    "# TODO:define loss function and optimiter\n",
    "criterion = nn.CrossEntropyLoss()\n",
    "optimizer = torch.optim.Adam(model.parameters(), lr = 0.0001)"
   ]
  },
  {
   "cell_type": "markdown",
   "metadata": {},
   "source": [
    "Next, we can start to train and evaluate!"
   ]
  },
  {
   "cell_type": "code",
   "execution_count": 4,
   "metadata": {
    "scrolled": true
   },
   "outputs": [
    {
     "name": "stderr",
     "output_type": "stream",
     "text": [
      "100%|██████████| 468/468 [01:09<00:00,  6.77it/s]\n",
      "100%|██████████| 78/78 [00:10<00:00,  7.55it/s]\n",
      "  0%|          | 2/468 [00:00<00:41, 11.21it/s]"
     ]
    },
    {
     "name": "stdout",
     "output_type": "stream",
     "text": [
      "[Epoch: 1] Train Loss: 0.71260 Train Accuracy: 0.82450\n",
      "[Epoch: 1] Test Loss: 0.35670 Test Accuracy: 0.90600\n"
     ]
    },
    {
     "name": "stderr",
     "output_type": "stream",
     "text": [
      "100%|██████████| 468/468 [01:04<00:00,  7.21it/s]\n",
      "100%|██████████| 78/78 [00:10<00:00,  7.44it/s]\n",
      "  0%|          | 1/468 [00:00<01:05,  7.09it/s]"
     ]
    },
    {
     "name": "stdout",
     "output_type": "stream",
     "text": [
      "[Epoch: 2] Train Loss: 0.31481 Train Accuracy: 0.91268\n",
      "[Epoch: 2] Test Loss: 0.25606 Test Accuracy: 0.92570\n"
     ]
    },
    {
     "name": "stderr",
     "output_type": "stream",
     "text": [
      "100%|██████████| 468/468 [01:05<00:00,  7.15it/s]\n",
      "100%|██████████| 78/78 [00:10<00:00,  7.36it/s]\n",
      "  0%|          | 1/468 [00:00<01:16,  6.13it/s]"
     ]
    },
    {
     "name": "stdout",
     "output_type": "stream",
     "text": [
      "[Epoch: 3] Train Loss: 0.23454 Train Accuracy: 0.93220\n",
      "[Epoch: 3] Test Loss: 0.20377 Test Accuracy: 0.94070\n"
     ]
    },
    {
     "name": "stderr",
     "output_type": "stream",
     "text": [
      "100%|██████████| 468/468 [00:50<00:00,  9.35it/s]\n",
      "100%|██████████| 78/78 [00:10<00:00,  7.70it/s]\n",
      "  0%|          | 1/468 [00:00<01:13,  6.38it/s]"
     ]
    },
    {
     "name": "stdout",
     "output_type": "stream",
     "text": [
      "[Epoch: 4] Train Loss: 0.19363 Train Accuracy: 0.94228\n",
      "[Epoch: 4] Test Loss: 0.17469 Test Accuracy: 0.94720\n"
     ]
    },
    {
     "name": "stderr",
     "output_type": "stream",
     "text": [
      "100%|██████████| 468/468 [01:04<00:00,  7.31it/s]\n",
      "100%|██████████| 78/78 [00:09<00:00,  7.83it/s]\n",
      "  0%|          | 1/468 [00:00<00:48,  9.67it/s]"
     ]
    },
    {
     "name": "stdout",
     "output_type": "stream",
     "text": [
      "[Epoch: 5] Train Loss: 0.16610 Train Accuracy: 0.94970\n",
      "[Epoch: 5] Test Loss: 0.15861 Test Accuracy: 0.95040\n"
     ]
    },
    {
     "name": "stderr",
     "output_type": "stream",
     "text": [
      "100%|██████████| 468/468 [01:04<00:00,  7.30it/s]\n",
      "100%|██████████| 78/78 [00:09<00:00,  8.24it/s]\n",
      "  0%|          | 1/468 [00:00<01:04,  7.27it/s]"
     ]
    },
    {
     "name": "stdout",
     "output_type": "stream",
     "text": [
      "[Epoch: 6] Train Loss: 0.14385 Train Accuracy: 0.95578\n",
      "[Epoch: 6] Test Loss: 0.14415 Test Accuracy: 0.95560\n"
     ]
    },
    {
     "name": "stderr",
     "output_type": "stream",
     "text": [
      "100%|██████████| 468/468 [01:00<00:00,  7.75it/s]\n",
      "100%|██████████| 78/78 [00:08<00:00,  8.83it/s]\n",
      "  0%|          | 1/468 [00:00<00:59,  7.90it/s]"
     ]
    },
    {
     "name": "stdout",
     "output_type": "stream",
     "text": [
      "[Epoch: 7] Train Loss: 0.13110 Train Accuracy: 0.95867\n",
      "[Epoch: 7] Test Loss: 0.13590 Test Accuracy: 0.95660\n"
     ]
    },
    {
     "name": "stderr",
     "output_type": "stream",
     "text": [
      "100%|██████████| 468/468 [01:02<00:00,  7.54it/s]\n",
      "100%|██████████| 78/78 [00:09<00:00,  8.02it/s]\n",
      "  0%|          | 1/468 [00:00<01:19,  5.89it/s]"
     ]
    },
    {
     "name": "stdout",
     "output_type": "stream",
     "text": [
      "[Epoch: 8] Train Loss: 0.11788 Train Accuracy: 0.96312\n",
      "[Epoch: 8] Test Loss: 0.13041 Test Accuracy: 0.95850\n"
     ]
    },
    {
     "name": "stderr",
     "output_type": "stream",
     "text": [
      "100%|██████████| 468/468 [01:04<00:00,  7.31it/s]\n",
      "100%|██████████| 78/78 [00:11<00:00,  7.08it/s]\n",
      "  0%|          | 1/468 [00:00<01:01,  7.54it/s]"
     ]
    },
    {
     "name": "stdout",
     "output_type": "stream",
     "text": [
      "[Epoch: 9] Train Loss: 0.10975 Train Accuracy: 0.96507\n",
      "[Epoch: 9] Test Loss: 0.12289 Test Accuracy: 0.96110\n"
     ]
    },
    {
     "name": "stderr",
     "output_type": "stream",
     "text": [
      "100%|██████████| 468/468 [01:05<00:00,  7.11it/s]\n",
      "100%|██████████| 78/78 [00:10<00:00,  7.64it/s]"
     ]
    },
    {
     "name": "stdout",
     "output_type": "stream",
     "text": [
      "[Epoch: 10] Train Loss: 0.10307 Train Accuracy: 0.96727\n",
      "[Epoch: 10] Test Loss: 0.11977 Test Accuracy: 0.96200\n"
     ]
    },
    {
     "name": "stderr",
     "output_type": "stream",
     "text": [
      "\n"
     ]
    }
   ],
   "source": [
    "# train and evaluate\n",
    "for epoch in range(NUM_EPOCHS):\n",
    "    train_loss = 0\n",
    "    train_correct = 0\n",
    "    test_loss = 0\n",
    "    test_correct = 0\n",
    "    for images, labels in tqdm(train_loader):\n",
    "        # TODO:forward + backward + optimize\n",
    "        # Init\n",
    "        optimizer.zero_grad()\n",
    "        # Predict\n",
    "        y_train_pred = model(images) \n",
    "        # Calculate loss\n",
    "        loss = nn.functional.cross_entropy(y_train_pred, labels)\n",
    "        # Backpropagation\n",
    "        loss.backward()\n",
    "        optimizer.step()\n",
    "\n",
    "        train_loss += loss\n",
    "        train_correct += (torch.max(y_train_pred, 1)[1].view(labels.size()).data == labels.data).sum()\n",
    "    for images0, labels0 in tqdm(test_loader): \n",
    "        y_pred = model(images0) \n",
    "        # Calculate loss\n",
    "        loss0 = nn.functional.cross_entropy(y_pred, labels0)\n",
    "        # Backpropagation\n",
    "        loss0.backward()\n",
    "        \n",
    "        test_loss += loss0\n",
    "        test_correct += (torch.max(y_pred, 1)[1].view(labels0.size()).data == labels0.data).sum()\n",
    "        \n",
    "    # evaluate\n",
    "    # TODO:calculate the accuracy using traning and testing dataset\n",
    "    train_loss = train_loss.item() / len(train_loader)\n",
    "    train_accuracy = train_correct.item() / len(train_loader.dataset)\n",
    "    test_loss = test_loss.item() / len(test_loader)\n",
    "    test_accuracy = test_correct.item() / len(test_loader.dataset)\n",
    "    print(\"[Epoch: %d] Train Loss: %5.5f Train Accuracy: %5.5f\" % (epoch+1, train_loss, train_accuracy))\n",
    "    print(\"[Epoch: %d] Test Loss: %5.5f Test Accuracy: %5.5f\" % (epoch+1, test_loss, test_accuracy))\n",
    "    \n",
    "    \n",
    "    \n"
   ]
  },
  {
   "cell_type": "markdown",
   "metadata": {},
   "source": [
    "#### Q5:\n",
    "Please print the training and testing accuracy."
   ]
  },
  {
   "cell_type": "code",
   "execution_count": 5,
   "metadata": {},
   "outputs": [
    {
     "name": "stdout",
     "output_type": "stream",
     "text": [
      "Training accuracy: 96.73%\n",
      "Testing accuracy: 96.20%\n"
     ]
    }
   ],
   "source": [
    "print('Training accuracy: %0.2f%%' % (train_accuracy*100))\n",
    "print('Testing accuracy: %0.2f%%' % (test_accuracy*100))"
   ]
  }
 ],
 "metadata": {
  "kernelspec": {
   "display_name": "Python 3",
   "language": "python",
   "name": "python3"
  },
  "language_info": {
   "codemirror_mode": {
    "name": "ipython",
    "version": 3
   },
   "file_extension": ".py",
   "mimetype": "text/x-python",
   "name": "python",
   "nbconvert_exporter": "python",
   "pygments_lexer": "ipython3",
   "version": "3.6.6"
  }
 },
 "nbformat": 4,
 "nbformat_minor": 2
}
